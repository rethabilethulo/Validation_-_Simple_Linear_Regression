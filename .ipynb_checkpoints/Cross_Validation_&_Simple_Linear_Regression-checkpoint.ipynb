{
 "cells": [
  {
   "cell_type": "markdown",
   "metadata": {},
   "source": [
    "## Importing libraries"
   ]
  },
  {
   "cell_type": "code",
   "execution_count": 1,
   "metadata": {},
   "outputs": [],
   "source": [
    "%matplotlib inline\n",
    "\n",
    "import pandas as pd\n",
    "import numpy as np\n",
    "import seaborn as sns\n",
    "import matplotlib.pyplot as plt\n",
    "from scipy.stats import stats \n",
    "from scipy.stats import pearsonr\n",
    "import math\n",
    "import statsmodels.formula.api as smf\n",
    "from scipy.stats.stats import pearsonr\n",
    "import statsmodels.api as sm\n",
    "from sklearn.model_selection import train_test_split\n",
    "from sklearn.linear_model import LinearRegression\n",
    "from sklearn import datasets, linear_model"
   ]
  },
  {
   "cell_type": "markdown",
   "metadata": {},
   "source": [
    "## Importing And Exploring Data Analysis"
   ]
  },
  {
   "cell_type": "code",
   "execution_count": 2,
   "metadata": {},
   "outputs": [
    {
     "data": {
      "text/html": [
       "<div>\n",
       "<style scoped>\n",
       "    .dataframe tbody tr th:only-of-type {\n",
       "        vertical-align: middle;\n",
       "    }\n",
       "\n",
       "    .dataframe tbody tr th {\n",
       "        vertical-align: top;\n",
       "    }\n",
       "\n",
       "    .dataframe thead th {\n",
       "        text-align: right;\n",
       "    }\n",
       "</style>\n",
       "<table border=\"1\" class=\"dataframe\">\n",
       "  <thead>\n",
       "    <tr style=\"text-align: right;\">\n",
       "      <th></th>\n",
       "      <th>salary</th>\n",
       "      <th>exprior</th>\n",
       "      <th>yearsworked</th>\n",
       "      <th>yearsrank</th>\n",
       "      <th>market</th>\n",
       "      <th>degree</th>\n",
       "      <th>otherqual</th>\n",
       "      <th>position</th>\n",
       "      <th>male</th>\n",
       "      <th>Field</th>\n",
       "      <th>yearsabs</th>\n",
       "    </tr>\n",
       "  </thead>\n",
       "  <tbody>\n",
       "    <tr>\n",
       "      <th>0</th>\n",
       "      <td>53000.0</td>\n",
       "      <td>0</td>\n",
       "      <td>0</td>\n",
       "      <td>0</td>\n",
       "      <td>1.17</td>\n",
       "      <td>1</td>\n",
       "      <td>0</td>\n",
       "      <td>1</td>\n",
       "      <td>1</td>\n",
       "      <td>3</td>\n",
       "      <td>0</td>\n",
       "    </tr>\n",
       "    <tr>\n",
       "      <th>1</th>\n",
       "      <td>58000.0</td>\n",
       "      <td>1</td>\n",
       "      <td>0</td>\n",
       "      <td>0</td>\n",
       "      <td>1.24</td>\n",
       "      <td>1</td>\n",
       "      <td>0</td>\n",
       "      <td>1</td>\n",
       "      <td>1</td>\n",
       "      <td>2</td>\n",
       "      <td>0</td>\n",
       "    </tr>\n",
       "    <tr>\n",
       "      <th>2</th>\n",
       "      <td>45500.0</td>\n",
       "      <td>0</td>\n",
       "      <td>0</td>\n",
       "      <td>0</td>\n",
       "      <td>1.21</td>\n",
       "      <td>1</td>\n",
       "      <td>0</td>\n",
       "      <td>1</td>\n",
       "      <td>1</td>\n",
       "      <td>3</td>\n",
       "      <td>2</td>\n",
       "    </tr>\n",
       "    <tr>\n",
       "      <th>3</th>\n",
       "      <td>35782.0</td>\n",
       "      <td>0</td>\n",
       "      <td>2</td>\n",
       "      <td>1</td>\n",
       "      <td>0.99</td>\n",
       "      <td>1</td>\n",
       "      <td>0</td>\n",
       "      <td>1</td>\n",
       "      <td>1</td>\n",
       "      <td>4</td>\n",
       "      <td>1</td>\n",
       "    </tr>\n",
       "    <tr>\n",
       "      <th>4</th>\n",
       "      <td>34731.0</td>\n",
       "      <td>0</td>\n",
       "      <td>2</td>\n",
       "      <td>2</td>\n",
       "      <td>0.91</td>\n",
       "      <td>1</td>\n",
       "      <td>0</td>\n",
       "      <td>1</td>\n",
       "      <td>1</td>\n",
       "      <td>4</td>\n",
       "      <td>1</td>\n",
       "    </tr>\n",
       "  </tbody>\n",
       "</table>\n",
       "</div>"
      ],
      "text/plain": [
       "    salary  exprior  yearsworked  yearsrank  market  degree  otherqual  \\\n",
       "0  53000.0        0            0          0    1.17       1          0   \n",
       "1  58000.0        1            0          0    1.24       1          0   \n",
       "2  45500.0        0            0          0    1.21       1          0   \n",
       "3  35782.0        0            2          1    0.99       1          0   \n",
       "4  34731.0        0            2          2    0.91       1          0   \n",
       "\n",
       "   position  male  Field  yearsabs  \n",
       "0         1     1      3         0  \n",
       "1         1     1      2         0  \n",
       "2         1     1      3         2  \n",
       "3         1     1      4         1  \n",
       "4         1     1      4         1  "
      ]
     },
     "execution_count": 2,
     "metadata": {},
     "output_type": "execute_result"
    }
   ],
   "source": [
    "#Reading csv file for salaries\n",
    "salaries = pd.read_csv(\"salary.csv\")\n",
    "salaries.head()"
   ]
  },
  {
   "cell_type": "code",
   "execution_count": 3,
   "metadata": {},
   "outputs": [
    {
     "data": {
      "text/plain": [
       "(514, 11)"
      ]
     },
     "execution_count": 3,
     "metadata": {},
     "output_type": "execute_result"
    }
   ],
   "source": [
    "#dataframe shape\n",
    "salaries.shape"
   ]
  },
  {
   "cell_type": "code",
   "execution_count": 4,
   "metadata": {},
   "outputs": [
    {
     "data": {
      "text/plain": [
       "{dtype('int64'): Index(['exprior', 'yearsworked', 'yearsrank', 'degree', 'otherqual',\n",
       "        'position', 'male', 'Field', 'yearsabs'],\n",
       "       dtype='object'),\n",
       " dtype('float64'): Index(['salary', 'market'], dtype='object')}"
      ]
     },
     "execution_count": 4,
     "metadata": {},
     "output_type": "execute_result"
    }
   ],
   "source": [
    "#Checking columns and their datatypes\n",
    "salaries.columns.to_series().groupby(salaries.dtypes).groups"
   ]
  },
  {
   "cell_type": "markdown",
   "metadata": {},
   "source": [
    "There are 9 integer columns and two float columns"
   ]
  },
  {
   "cell_type": "code",
   "execution_count": 5,
   "metadata": {},
   "outputs": [
    {
     "name": "stdout",
     "output_type": "stream",
     "text": [
      "<class 'pandas.core.frame.DataFrame'>\n",
      "RangeIndex: 514 entries, 0 to 513\n",
      "Data columns (total 11 columns):\n",
      " #   Column       Non-Null Count  Dtype  \n",
      "---  ------       --------------  -----  \n",
      " 0   salary       513 non-null    float64\n",
      " 1   exprior      514 non-null    int64  \n",
      " 2   yearsworked  514 non-null    int64  \n",
      " 3   yearsrank    514 non-null    int64  \n",
      " 4   market       514 non-null    float64\n",
      " 5   degree       514 non-null    int64  \n",
      " 6   otherqual    514 non-null    int64  \n",
      " 7   position     514 non-null    int64  \n",
      " 8   male         514 non-null    int64  \n",
      " 9   Field        514 non-null    int64  \n",
      " 10  yearsabs     514 non-null    int64  \n",
      "dtypes: float64(2), int64(9)\n",
      "memory usage: 44.3 KB\n"
     ]
    }
   ],
   "source": [
    "#Checking columns and missing values\n",
    "salaries.info()"
   ]
  },
  {
   "cell_type": "markdown",
   "metadata": {},
   "source": [
    "•There are 514 entries.\n",
    "\n",
    "•The number of columns is 11 will the number of rows is 514.\n",
    "\n",
    "•There are two floats and 11 integers.\n",
    "\n",
    "•And there is one missing value in salary"
   ]
  },
  {
   "cell_type": "code",
   "execution_count": 6,
   "metadata": {},
   "outputs": [
    {
     "data": {
      "text/html": [
       "<div>\n",
       "<style scoped>\n",
       "    .dataframe tbody tr th:only-of-type {\n",
       "        vertical-align: middle;\n",
       "    }\n",
       "\n",
       "    .dataframe tbody tr th {\n",
       "        vertical-align: top;\n",
       "    }\n",
       "\n",
       "    .dataframe thead th {\n",
       "        text-align: right;\n",
       "    }\n",
       "</style>\n",
       "<table border=\"1\" class=\"dataframe\">\n",
       "  <thead>\n",
       "    <tr style=\"text-align: right;\">\n",
       "      <th></th>\n",
       "      <th>salary</th>\n",
       "      <th>exprior</th>\n",
       "      <th>yearsworked</th>\n",
       "      <th>yearsrank</th>\n",
       "      <th>market</th>\n",
       "      <th>degree</th>\n",
       "      <th>otherqual</th>\n",
       "      <th>position</th>\n",
       "      <th>male</th>\n",
       "      <th>Field</th>\n",
       "      <th>yearsabs</th>\n",
       "    </tr>\n",
       "  </thead>\n",
       "  <tbody>\n",
       "    <tr>\n",
       "      <th>salary</th>\n",
       "      <td>1.000000</td>\n",
       "      <td>0.119989</td>\n",
       "      <td>0.623589</td>\n",
       "      <td>0.610706</td>\n",
       "      <td>0.407214</td>\n",
       "      <td>0.044554</td>\n",
       "      <td>0.167137</td>\n",
       "      <td>0.702122</td>\n",
       "      <td>0.361564</td>\n",
       "      <td>-0.499316</td>\n",
       "      <td>-0.069630</td>\n",
       "    </tr>\n",
       "    <tr>\n",
       "      <th>exprior</th>\n",
       "      <td>0.119989</td>\n",
       "      <td>1.000000</td>\n",
       "      <td>-0.246549</td>\n",
       "      <td>-0.066403</td>\n",
       "      <td>-0.035041</td>\n",
       "      <td>-0.049373</td>\n",
       "      <td>0.264804</td>\n",
       "      <td>0.116596</td>\n",
       "      <td>0.046558</td>\n",
       "      <td>-0.048315</td>\n",
       "      <td>0.132380</td>\n",
       "    </tr>\n",
       "    <tr>\n",
       "      <th>yearsworked</th>\n",
       "      <td>0.623589</td>\n",
       "      <td>-0.246549</td>\n",
       "      <td>1.000000</td>\n",
       "      <td>0.813471</td>\n",
       "      <td>-0.070896</td>\n",
       "      <td>0.028421</td>\n",
       "      <td>-0.040490</td>\n",
       "      <td>0.746736</td>\n",
       "      <td>0.278963</td>\n",
       "      <td>-0.261379</td>\n",
       "      <td>0.055468</td>\n",
       "    </tr>\n",
       "    <tr>\n",
       "      <th>yearsrank</th>\n",
       "      <td>0.610706</td>\n",
       "      <td>-0.066403</td>\n",
       "      <td>0.813471</td>\n",
       "      <td>1.000000</td>\n",
       "      <td>-0.026975</td>\n",
       "      <td>0.006516</td>\n",
       "      <td>0.007036</td>\n",
       "      <td>0.485210</td>\n",
       "      <td>0.237787</td>\n",
       "      <td>-0.263953</td>\n",
       "      <td>0.035632</td>\n",
       "    </tr>\n",
       "    <tr>\n",
       "      <th>market</th>\n",
       "      <td>0.407214</td>\n",
       "      <td>-0.035041</td>\n",
       "      <td>-0.070896</td>\n",
       "      <td>-0.026975</td>\n",
       "      <td>1.000000</td>\n",
       "      <td>0.036408</td>\n",
       "      <td>0.021692</td>\n",
       "      <td>-0.013358</td>\n",
       "      <td>0.181201</td>\n",
       "      <td>-0.223827</td>\n",
       "      <td>-0.167068</td>\n",
       "    </tr>\n",
       "    <tr>\n",
       "      <th>degree</th>\n",
       "      <td>0.044554</td>\n",
       "      <td>-0.049373</td>\n",
       "      <td>0.028421</td>\n",
       "      <td>0.006516</td>\n",
       "      <td>0.036408</td>\n",
       "      <td>1.000000</td>\n",
       "      <td>-0.214717</td>\n",
       "      <td>0.043680</td>\n",
       "      <td>0.061611</td>\n",
       "      <td>-0.098424</td>\n",
       "      <td>0.029311</td>\n",
       "    </tr>\n",
       "    <tr>\n",
       "      <th>otherqual</th>\n",
       "      <td>0.167137</td>\n",
       "      <td>0.264804</td>\n",
       "      <td>-0.040490</td>\n",
       "      <td>0.007036</td>\n",
       "      <td>0.021692</td>\n",
       "      <td>-0.214717</td>\n",
       "      <td>1.000000</td>\n",
       "      <td>0.160311</td>\n",
       "      <td>0.015833</td>\n",
       "      <td>-0.076623</td>\n",
       "      <td>-0.017639</td>\n",
       "    </tr>\n",
       "    <tr>\n",
       "      <th>position</th>\n",
       "      <td>0.702122</td>\n",
       "      <td>0.116596</td>\n",
       "      <td>0.746736</td>\n",
       "      <td>0.485210</td>\n",
       "      <td>-0.013358</td>\n",
       "      <td>0.043680</td>\n",
       "      <td>0.160311</td>\n",
       "      <td>1.000000</td>\n",
       "      <td>0.318129</td>\n",
       "      <td>-0.288812</td>\n",
       "      <td>0.029751</td>\n",
       "    </tr>\n",
       "    <tr>\n",
       "      <th>male</th>\n",
       "      <td>0.361564</td>\n",
       "      <td>0.046558</td>\n",
       "      <td>0.278963</td>\n",
       "      <td>0.237787</td>\n",
       "      <td>0.181201</td>\n",
       "      <td>0.061611</td>\n",
       "      <td>0.015833</td>\n",
       "      <td>0.318129</td>\n",
       "      <td>1.000000</td>\n",
       "      <td>-0.128874</td>\n",
       "      <td>-0.622179</td>\n",
       "    </tr>\n",
       "    <tr>\n",
       "      <th>Field</th>\n",
       "      <td>-0.499316</td>\n",
       "      <td>-0.048315</td>\n",
       "      <td>-0.261379</td>\n",
       "      <td>-0.263953</td>\n",
       "      <td>-0.223827</td>\n",
       "      <td>-0.098424</td>\n",
       "      <td>-0.076623</td>\n",
       "      <td>-0.288812</td>\n",
       "      <td>-0.128874</td>\n",
       "      <td>1.000000</td>\n",
       "      <td>-0.000127</td>\n",
       "    </tr>\n",
       "    <tr>\n",
       "      <th>yearsabs</th>\n",
       "      <td>-0.069630</td>\n",
       "      <td>0.132380</td>\n",
       "      <td>0.055468</td>\n",
       "      <td>0.035632</td>\n",
       "      <td>-0.167068</td>\n",
       "      <td>0.029311</td>\n",
       "      <td>-0.017639</td>\n",
       "      <td>0.029751</td>\n",
       "      <td>-0.622179</td>\n",
       "      <td>-0.000127</td>\n",
       "      <td>1.000000</td>\n",
       "    </tr>\n",
       "  </tbody>\n",
       "</table>\n",
       "</div>"
      ],
      "text/plain": [
       "               salary   exprior  yearsworked  yearsrank    market    degree  \\\n",
       "salary       1.000000  0.119989     0.623589   0.610706  0.407214  0.044554   \n",
       "exprior      0.119989  1.000000    -0.246549  -0.066403 -0.035041 -0.049373   \n",
       "yearsworked  0.623589 -0.246549     1.000000   0.813471 -0.070896  0.028421   \n",
       "yearsrank    0.610706 -0.066403     0.813471   1.000000 -0.026975  0.006516   \n",
       "market       0.407214 -0.035041    -0.070896  -0.026975  1.000000  0.036408   \n",
       "degree       0.044554 -0.049373     0.028421   0.006516  0.036408  1.000000   \n",
       "otherqual    0.167137  0.264804    -0.040490   0.007036  0.021692 -0.214717   \n",
       "position     0.702122  0.116596     0.746736   0.485210 -0.013358  0.043680   \n",
       "male         0.361564  0.046558     0.278963   0.237787  0.181201  0.061611   \n",
       "Field       -0.499316 -0.048315    -0.261379  -0.263953 -0.223827 -0.098424   \n",
       "yearsabs    -0.069630  0.132380     0.055468   0.035632 -0.167068  0.029311   \n",
       "\n",
       "             otherqual  position      male     Field  yearsabs  \n",
       "salary        0.167137  0.702122  0.361564 -0.499316 -0.069630  \n",
       "exprior       0.264804  0.116596  0.046558 -0.048315  0.132380  \n",
       "yearsworked  -0.040490  0.746736  0.278963 -0.261379  0.055468  \n",
       "yearsrank     0.007036  0.485210  0.237787 -0.263953  0.035632  \n",
       "market        0.021692 -0.013358  0.181201 -0.223827 -0.167068  \n",
       "degree       -0.214717  0.043680  0.061611 -0.098424  0.029311  \n",
       "otherqual     1.000000  0.160311  0.015833 -0.076623 -0.017639  \n",
       "position      0.160311  1.000000  0.318129 -0.288812  0.029751  \n",
       "male          0.015833  0.318129  1.000000 -0.128874 -0.622179  \n",
       "Field        -0.076623 -0.288812 -0.128874  1.000000 -0.000127  \n",
       "yearsabs     -0.017639  0.029751 -0.622179 -0.000127  1.000000  "
      ]
     },
     "execution_count": 6,
     "metadata": {},
     "output_type": "execute_result"
    }
   ],
   "source": [
    "#Checking correlation\n",
    "salaries.corr()"
   ]
  },
  {
   "cell_type": "code",
   "execution_count": 7,
   "metadata": {},
   "outputs": [
    {
     "data": {
      "text/html": [
       "<div>\n",
       "<style scoped>\n",
       "    .dataframe tbody tr th:only-of-type {\n",
       "        vertical-align: middle;\n",
       "    }\n",
       "\n",
       "    .dataframe tbody tr th {\n",
       "        vertical-align: top;\n",
       "    }\n",
       "\n",
       "    .dataframe thead th {\n",
       "        text-align: right;\n",
       "    }\n",
       "</style>\n",
       "<table border=\"1\" class=\"dataframe\">\n",
       "  <thead>\n",
       "    <tr style=\"text-align: right;\">\n",
       "      <th></th>\n",
       "      <th>salary</th>\n",
       "      <th>exprior</th>\n",
       "      <th>yearsworked</th>\n",
       "      <th>yearsrank</th>\n",
       "      <th>market</th>\n",
       "      <th>degree</th>\n",
       "      <th>otherqual</th>\n",
       "      <th>position</th>\n",
       "      <th>male</th>\n",
       "      <th>Field</th>\n",
       "      <th>yearsabs</th>\n",
       "    </tr>\n",
       "  </thead>\n",
       "  <tbody>\n",
       "    <tr>\n",
       "      <th>count</th>\n",
       "      <td>513.000000</td>\n",
       "      <td>514.000000</td>\n",
       "      <td>514.000000</td>\n",
       "      <td>514.000000</td>\n",
       "      <td>514.000000</td>\n",
       "      <td>514.000000</td>\n",
       "      <td>514.000000</td>\n",
       "      <td>514.000000</td>\n",
       "      <td>514.000000</td>\n",
       "      <td>514.000000</td>\n",
       "      <td>514.000000</td>\n",
       "    </tr>\n",
       "    <tr>\n",
       "      <th>mean</th>\n",
       "      <td>50863.220098</td>\n",
       "      <td>2.926070</td>\n",
       "      <td>12.852140</td>\n",
       "      <td>7.052529</td>\n",
       "      <td>0.948521</td>\n",
       "      <td>0.964981</td>\n",
       "      <td>0.044747</td>\n",
       "      <td>2.132296</td>\n",
       "      <td>0.750973</td>\n",
       "      <td>2.529183</td>\n",
       "      <td>6.982490</td>\n",
       "    </tr>\n",
       "    <tr>\n",
       "      <th>std</th>\n",
       "      <td>12685.132358</td>\n",
       "      <td>4.791397</td>\n",
       "      <td>9.444695</td>\n",
       "      <td>6.414771</td>\n",
       "      <td>0.149380</td>\n",
       "      <td>0.184008</td>\n",
       "      <td>0.206950</td>\n",
       "      <td>0.820075</td>\n",
       "      <td>0.432871</td>\n",
       "      <td>1.127420</td>\n",
       "      <td>16.873156</td>\n",
       "    </tr>\n",
       "    <tr>\n",
       "      <th>min</th>\n",
       "      <td>29000.000000</td>\n",
       "      <td>0.000000</td>\n",
       "      <td>0.000000</td>\n",
       "      <td>0.000000</td>\n",
       "      <td>0.710000</td>\n",
       "      <td>0.000000</td>\n",
       "      <td>0.000000</td>\n",
       "      <td>1.000000</td>\n",
       "      <td>0.000000</td>\n",
       "      <td>1.000000</td>\n",
       "      <td>0.000000</td>\n",
       "    </tr>\n",
       "    <tr>\n",
       "      <th>25%</th>\n",
       "      <td>40000.000000</td>\n",
       "      <td>0.000000</td>\n",
       "      <td>4.000000</td>\n",
       "      <td>2.000000</td>\n",
       "      <td>0.840000</td>\n",
       "      <td>1.000000</td>\n",
       "      <td>0.000000</td>\n",
       "      <td>1.000000</td>\n",
       "      <td>1.000000</td>\n",
       "      <td>2.000000</td>\n",
       "      <td>0.000000</td>\n",
       "    </tr>\n",
       "    <tr>\n",
       "      <th>50%</th>\n",
       "      <td>50096.000000</td>\n",
       "      <td>0.500000</td>\n",
       "      <td>12.000000</td>\n",
       "      <td>5.000000</td>\n",
       "      <td>0.920000</td>\n",
       "      <td>1.000000</td>\n",
       "      <td>0.000000</td>\n",
       "      <td>2.000000</td>\n",
       "      <td>1.000000</td>\n",
       "      <td>3.000000</td>\n",
       "      <td>1.000000</td>\n",
       "    </tr>\n",
       "    <tr>\n",
       "      <th>75%</th>\n",
       "      <td>60345.000000</td>\n",
       "      <td>4.000000</td>\n",
       "      <td>22.000000</td>\n",
       "      <td>12.000000</td>\n",
       "      <td>1.020000</td>\n",
       "      <td>1.000000</td>\n",
       "      <td>0.000000</td>\n",
       "      <td>3.000000</td>\n",
       "      <td>1.000000</td>\n",
       "      <td>4.000000</td>\n",
       "      <td>2.000000</td>\n",
       "    </tr>\n",
       "    <tr>\n",
       "      <th>max</th>\n",
       "      <td>96156.000000</td>\n",
       "      <td>25.000000</td>\n",
       "      <td>41.000000</td>\n",
       "      <td>28.000000</td>\n",
       "      <td>1.330000</td>\n",
       "      <td>1.000000</td>\n",
       "      <td>1.000000</td>\n",
       "      <td>3.000000</td>\n",
       "      <td>1.000000</td>\n",
       "      <td>4.000000</td>\n",
       "      <td>118.000000</td>\n",
       "    </tr>\n",
       "  </tbody>\n",
       "</table>\n",
       "</div>"
      ],
      "text/plain": [
       "             salary     exprior  yearsworked   yearsrank      market  \\\n",
       "count    513.000000  514.000000   514.000000  514.000000  514.000000   \n",
       "mean   50863.220098    2.926070    12.852140    7.052529    0.948521   \n",
       "std    12685.132358    4.791397     9.444695    6.414771    0.149380   \n",
       "min    29000.000000    0.000000     0.000000    0.000000    0.710000   \n",
       "25%    40000.000000    0.000000     4.000000    2.000000    0.840000   \n",
       "50%    50096.000000    0.500000    12.000000    5.000000    0.920000   \n",
       "75%    60345.000000    4.000000    22.000000   12.000000    1.020000   \n",
       "max    96156.000000   25.000000    41.000000   28.000000    1.330000   \n",
       "\n",
       "           degree   otherqual    position        male       Field    yearsabs  \n",
       "count  514.000000  514.000000  514.000000  514.000000  514.000000  514.000000  \n",
       "mean     0.964981    0.044747    2.132296    0.750973    2.529183    6.982490  \n",
       "std      0.184008    0.206950    0.820075    0.432871    1.127420   16.873156  \n",
       "min      0.000000    0.000000    1.000000    0.000000    1.000000    0.000000  \n",
       "25%      1.000000    0.000000    1.000000    1.000000    2.000000    0.000000  \n",
       "50%      1.000000    0.000000    2.000000    1.000000    3.000000    1.000000  \n",
       "75%      1.000000    0.000000    3.000000    1.000000    4.000000    2.000000  \n",
       "max      1.000000    1.000000    3.000000    1.000000    4.000000  118.000000  "
      ]
     },
     "execution_count": 7,
     "metadata": {},
     "output_type": "execute_result"
    }
   ],
   "source": [
    "#Statistical summary of dataframe\n",
    "salaries.describe()"
   ]
  },
  {
   "cell_type": "markdown",
   "metadata": {},
   "source": [
    "## 1.1 Examining missing values "
   ]
  },
  {
   "cell_type": "code",
   "execution_count": 8,
   "metadata": {},
   "outputs": [
    {
     "data": {
      "text/plain": [
       "salary         0\n",
       "exprior        0\n",
       "yearsworked    0\n",
       "yearsrank      0\n",
       "market         0\n",
       "degree         0\n",
       "otherqual      0\n",
       "position       0\n",
       "male           0\n",
       "Field          0\n",
       "yearsabs       0\n",
       "dtype: int64"
      ]
     },
     "execution_count": 8,
     "metadata": {},
     "output_type": "execute_result"
    }
   ],
   "source": [
    "#Examining null values in salary and filling null with median\n",
    "\n",
    "nan_df = salaries.fillna(salaries['salary'].mean())\n",
    "\n",
    "nan_df.isnull().sum()\n"
   ]
  },
  {
   "cell_type": "markdown",
   "metadata": {},
   "source": [
    "### 1.1.1 A histrogram showing salary\n"
   ]
  },
  {
   "cell_type": "code",
   "execution_count": 9,
   "metadata": {},
   "outputs": [
    {
     "data": {
      "image/png": "[encoded data removed]",
      "text/plain": [
       "<Figure size 720x432 with 1 Axes>"
      ]
     },
     "metadata": {
      "needs_background": "light"
     },
     "output_type": "display_data"
    }
   ],
   "source": [
    "# The histogram distribution is now visualized for Salary per year\n",
    "\n",
    "plt.figure(figsize = (10,6))\n",
    "sns.distplot(salaries[\"salary\"], kde = True, color = \"purple\")\n",
    "plt.title(\"The distribution of salary\", fontsize = 20)\n",
    "plt.xlabel(\"Salary a year ($)\", fontsize = 18)\n",
    "plt.ylabel(\"Frequency\", fontsize = 18)\n",
    "plt.show;"
   ]
  },
  {
   "cell_type": "markdown",
   "metadata": {},
   "source": [
    "•Most of the people in the data set earn low salaries\n",
    "\n",
    "•This is a heavily_tailed positively skewed distribution because the tail is longer on the right\n",
    "\n",
    "•The mean is more than the median.\n",
    "\n",
    "• Data transformation methods may be required to approach a normal distribution prior to fitting a model to the data."
   ]
  },
  {
   "cell_type": "markdown",
   "metadata": {},
   "source": [
    "### 1.1.2 Histogram showing years worked"
   ]
  },
  {
   "cell_type": "code",
   "execution_count": 10,
   "metadata": {},
   "outputs": [
    {
     "data": {
      "image/png": "[encoded data removed]",
      "text/plain": [
       "<Figure size 720x432 with 1 Axes>"
      ]
     },
     "metadata": {
      "needs_background": "light"
     },
     "output_type": "display_data"
    }
   ],
   "source": [
    "# The histogram distribution is now visualized for yearsworked\n",
    "\n",
    "plt.figure(figsize = (10,6))\n",
    "sns.distplot(salaries[\"yearsworked\"], kde = True, color = \"blue\")\n",
    "plt.title(\"The distribution of Years Worked\", fontsize = 20)\n",
    "plt.xlabel(\"Years Worked\", fontsize = 18)\n",
    "plt.ylabel(\"Frequency\", fontsize = 18)\n",
    "plt.show;"
   ]
  },
  {
   "cell_type": "markdown",
   "metadata": {},
   "source": [
    "•Data transformation methods may be required to approach a normal distribution prior to fitting a model to the data.\n",
    "\n",
    "•A of the people in the data set haven't been working for many years.\n",
    "\n",
    "•The mean of the data is not very higher than the median.\n",
    "\n",
    "•In the years worked distribution there is a slightly right-skewed normal distribution with the bulk of the staff between 8 and 20 years old."
   ]
  },
  {
   "cell_type": "markdown",
   "metadata": {},
   "source": [
    "### 1.1.3 A Scatterplot showing Years worked VS Salary"
   ]
  },
  {
   "cell_type": "code",
   "execution_count": 11,
   "metadata": {},
   "outputs": [
    {
     "data": {
      "image/png": "[encoded data removed]",
      "text/plain": [
       "<Figure size 720x432 with 1 Axes>"
      ]
     },
     "metadata": {},
     "output_type": "display_data"
    }
   ],
   "source": [
    "sns.set()\n",
    "plt.figure(figsize = (10,6))\n",
    "plt.scatter(salaries[\"yearsworked\"], salaries[\"salary\"], color = \"maroon\")\n",
    "plt.xlabel(\"Years worked\", fontsize = 12)\n",
    "plt.ylabel(\"Salary\", fontsize = 12 )\n",
    "_= plt.title(\"Years Worked VS Salary\", fontsize = 16)"
   ]
  },
  {
   "cell_type": "code",
   "execution_count": 12,
   "metadata": {},
   "outputs": [
    {
     "data": {
      "text/plain": [
       "(0.6231354820920552, 1.2747795189693407e-56)"
      ]
     },
     "execution_count": 12,
     "metadata": {},
     "output_type": "execute_result"
    }
   ],
   "source": [
    "#Checking pearson correlation\n",
    "pearsonr(nan_df[\"yearsworked\"],nan_df[\"salary\"])\n"
   ]
  },
  {
   "cell_type": "markdown",
   "metadata": {},
   "source": [
    "•The scatterplot above and trendline show that a linear relationship exists between the salaries earned and the number of years worked by employees.\n",
    "\n",
    "•This is a positive relationship.\n",
    "\n",
    "•The p-value is low meaning that the correlation is statistically significant.\n",
    "\n",
    "•The data is appropriate for linear regression.\n",
    "\n",
    "•When years worked increases, salary also inceases.\n",
    "\n"
   ]
  },
  {
   "cell_type": "markdown",
   "metadata": {},
   "source": [
    "## 1.2 Splitting data into training and testing"
   ]
  },
  {
   "cell_type": "code",
   "execution_count": 13,
   "metadata": {},
   "outputs": [
    {
     "data": {
      "text/plain": [
       "257    52173.00000\n",
       "393    35782.00000\n",
       "157    46573.64844\n",
       "497    48681.00000\n",
       "396    34731.00000\n",
       "Name: salary, dtype: float64"
      ]
     },
     "execution_count": 13,
     "metadata": {},
     "output_type": "execute_result"
    }
   ],
   "source": [
    "#Creating training target\n",
    "y = nan_df[\"salary\"]\n",
    " \n",
    "#Creating testin target    \n",
    "x = nan_df[[\"yearsworked\"]]\n",
    "\n",
    "X = sm.add_constant(x.values)\n",
    "\n",
    "#Slipping data into training and testing set wit an 80-20\n",
    "X_train, X_test, y_train, y_test = train_test_split(X, y,\n",
    "\n",
    "                                                    test_size = 0.20, random_state = None)\n",
    "#View head sayalry\n",
    "y_train.head()\n"
   ]
  },
  {
   "cell_type": "code",
   "execution_count": 14,
   "metadata": {},
   "outputs": [
    {
     "name": "stdout",
     "output_type": "stream",
     "text": [
      "(411, 2) (411,)\n"
     ]
    }
   ],
   "source": [
    "#checking testing for shaping\n",
    "print (X_train.shape, y_train.shape)"
   ]
  },
  {
   "cell_type": "code",
   "execution_count": 15,
   "metadata": {},
   "outputs": [
    {
     "data": {
      "text/plain": [
       "False"
      ]
     },
     "execution_count": 15,
     "metadata": {},
     "output_type": "execute_result"
    }
   ],
   "source": [
    "#checking to see if training set has any null values\n",
    "np.any(np.isnan(X_train))"
   ]
  },
  {
   "cell_type": "markdown",
   "metadata": {},
   "source": [
    "## 1.3 Examining extreme values"
   ]
  },
  {
   "cell_type": "markdown",
   "metadata": {},
   "source": [
    "### 1.3.1 Boxplot visualisation"
   ]
  },
  {
   "cell_type": "code",
   "execution_count": 16,
   "metadata": {},
   "outputs": [
    {
     "data": {
      "image/png": "[encoded data removed]",
      "text/plain": [
       "<Figure size 576x432 with 2 Axes>"
      ]
     },
     "metadata": {},
     "output_type": "display_data"
    }
   ],
   "source": [
    "#Using boxplots to visualise distribution\n",
    "sns.set()\n",
    "fig, axes = plt.subplots(1,2, figsize = (8, 6))\n",
    "sns.boxplot(x = salaries[\"yearsworked\"], ax = axes[0], data = salaries, color = \"purple\")\n",
    "sns.boxplot(x = salaries[\"salary\"], ax = axes[1], data = salaries, color = \"blue\")\n",
    "plt.show()"
   ]
  },
  {
   "cell_type": "markdown",
   "metadata": {},
   "source": [
    "•In the above figures the distributions are skewed right\n",
    "\n",
    "•The part of the box to the left of the median is shorter than the part to the right of the median.\n",
    "\n",
    "•That means the people with lesser work experince are closer together than those with more years.\n",
    "\n",
    "•For salary per year the people with leser salaries are closer tha those with more and there are outliers in thos boxplot.\n"
   ]
  },
  {
   "cell_type": "markdown",
   "metadata": {},
   "source": [
    "### 1.3.2 InterQuartile Range (IQR)"
   ]
  },
  {
   "cell_type": "code",
   "execution_count": 17,
   "metadata": {},
   "outputs": [
    {
     "name": "stdout",
     "output_type": "stream",
     "text": [
      "InterQuartile Range for salary = 20345.0\n"
     ]
    }
   ],
   "source": [
    "#Calculating the InterQuartil## 1.3 Examining extreme valuese Range for salary\n",
    "Q1 = salaries[\"salary\"].quantile(0.25)\n",
    "Q3 = salaries[\"salary\"].quantile(0.75)\n",
    "IQR = Q3 - Q1\n",
    "print(\"InterQuartile Range for salary =\",IQR)\n",
    "\n"
   ]
  },
  {
   "cell_type": "markdown",
   "metadata": {},
   "source": [
    "•Interquartile range gives another measure of variability\n",
    "\n",
    "•The main advantage of the IQR is that it is not affected by outliers because it    doesn’t take into account observations below Q1 or above Q3.\n",
    "\n",
    "•It equally divides the distribution into four equal parts called quartiles.\n",
    "\n",
    "•As a rule of thumb, observations can be qualified as outliers when they lie more than 1.5 IQR below the first quartile or 1.5 IQR above the third quartile.\n",
    "\n"
   ]
  },
  {
   "cell_type": "markdown",
   "metadata": {},
   "source": [
    "### 1.3.3 Lower And Upper Bound"
   ]
  },
  {
   "cell_type": "code",
   "execution_count": 18,
   "metadata": {},
   "outputs": [
    {
     "name": "stdout",
     "output_type": "stream",
     "text": [
      "Lower bound for salary = 9482.5\n",
      "Upper bound for salary = 90862.5\n"
     ]
    },
    {
     "data": {
      "text/plain": [
       "377    96156.0\n",
       "Name: salary, dtype: float64"
      ]
     },
     "execution_count": 18,
     "metadata": {},
     "output_type": "execute_result"
    }
   ],
   "source": [
    "#Calculating Lower and upper bound of salary\n",
    "Q3 = np.percentile(Q3, 75)\n",
    "upper_bound = Q3 + 1.5 * IQR\n",
    "lower_bound = Q1- IQR*1.5\n",
    "print(\"Lower bound for salary =\", lower_bound)\n",
    "print(\"Upper bound for salary =\", upper_bound)\n",
    "\n",
    "y_train[y_train > upper_bound]"
   ]
  },
  {
   "cell_type": "markdown",
   "metadata": {},
   "source": [
    "•The value of outliers in more than the upper bound.\n",
    "\n",
    "•These outliers are at index 377.\n"
   ]
  },
  {
   "cell_type": "markdown",
   "metadata": {},
   "source": [
    "### 1.3.4 Dealing with outliers"
   ]
  },
  {
   "cell_type": "code",
   "execution_count": 19,
   "metadata": {},
   "outputs": [
    {
     "data": {
      "text/plain": [
       "(513, 11)"
      ]
     },
     "execution_count": 19,
     "metadata": {},
     "output_type": "execute_result"
    }
   ],
   "source": [
    "# drop value with index 377\n",
    "drop_df = salaries.drop(377)\n",
    "drop_df.shape"
   ]
  },
  {
   "cell_type": "markdown",
   "metadata": {},
   "source": [
    "### 1.3.5 Skeweness of salary"
   ]
  },
  {
   "cell_type": "code",
   "execution_count": 20,
   "metadata": {},
   "outputs": [
    {
     "name": "stdout",
     "output_type": "stream",
     "text": [
      "0.448656690197232\n",
      "0.2809060751170079\n"
     ]
    }
   ],
   "source": [
    "#Checking skewness of salary and years worked\n",
    "\n",
    "print(nan_df[\"salary\"].skew())\n",
    "print(nan_df[\"yearsworked\"].skew())"
   ]
  },
  {
   "cell_type": "markdown",
   "metadata": {},
   "source": [
    "•Salary and years is skewed right or it's positively skewed.\n",
    "\n",
    "•This is  slight or weak positive skewness.\n",
    "\n",
    "•This means that the mean is greater than the median.\n",
    "\n",
    "•This then means that there are extreme values called outliers."
   ]
  },
  {
   "cell_type": "markdown",
   "metadata": {},
   "source": [
    "\n",
    "# 2. Fitting Simple Linear Regression to the Training "
   ]
  },
  {
   "cell_type": "code",
   "execution_count": 21,
   "metadata": {},
   "outputs": [],
   "source": [
    "# create a fitted model in one line\n",
    "model = sm.OLS(y_train, X_train).fit()\n",
    "predictions = model.predict(X_test)"
   ]
  },
  {
   "cell_type": "code",
   "execution_count": 22,
   "metadata": {},
   "outputs": [
    {
     "data": {
      "text/html": [
       "<table class=\"simpletable\">\n",
       "<caption>OLS Regression Results</caption>\n",
       "<tr>\n",
       "  <th>Dep. Variable:</th>         <td>salary</td>      <th>  R-squared:         </th> <td>   0.385</td>\n",
       "</tr>\n",
       "<tr>\n",
       "  <th>Model:</th>                   <td>OLS</td>       <th>  Adj. R-squared:    </th> <td>   0.383</td>\n",
       "</tr>\n",
       "<tr>\n",
       "  <th>Method:</th>             <td>Least Squares</td>  <th>  F-statistic:       </th> <td>   255.8</td>\n",
       "</tr>\n",
       "<tr>\n",
       "  <th>Date:</th>             <td>Wed, 22 Apr 2020</td> <th>  Prob (F-statistic):</th> <td>4.63e-45</td>\n",
       "</tr>\n",
       "<tr>\n",
       "  <th>Time:</th>                 <td>18:06:07</td>     <th>  Log-Likelihood:    </th> <td> -4367.0</td>\n",
       "</tr>\n",
       "<tr>\n",
       "  <th>No. Observations:</th>      <td>   411</td>      <th>  AIC:               </th> <td>   8738.</td>\n",
       "</tr>\n",
       "<tr>\n",
       "  <th>Df Residuals:</th>          <td>   409</td>      <th>  BIC:               </th> <td>   8746.</td>\n",
       "</tr>\n",
       "<tr>\n",
       "  <th>Df Model:</th>              <td>     1</td>      <th>                     </th>     <td> </td>   \n",
       "</tr>\n",
       "<tr>\n",
       "  <th>Covariance Type:</th>      <td>nonrobust</td>    <th>                     </th>     <td> </td>   \n",
       "</tr>\n",
       "</table>\n",
       "<table class=\"simpletable\">\n",
       "<tr>\n",
       "    <td></td>       <th>coef</th>     <th>std err</th>      <th>t</th>      <th>P>|t|</th>  <th>[0.025</th>    <th>0.975]</th>  \n",
       "</tr>\n",
       "<tr>\n",
       "  <th>const</th> <td>  4.01e+04</td> <td>  858.948</td> <td>   46.682</td> <td> 0.000</td> <td> 3.84e+04</td> <td> 4.18e+04</td>\n",
       "</tr>\n",
       "<tr>\n",
       "  <th>x1</th>    <td>  851.8609</td> <td>   53.267</td> <td>   15.992</td> <td> 0.000</td> <td>  747.149</td> <td>  956.573</td>\n",
       "</tr>\n",
       "</table>\n",
       "<table class=\"simpletable\">\n",
       "<tr>\n",
       "  <th>Omnibus:</th>       <td>70.412</td> <th>  Durbin-Watson:     </th> <td>   1.957</td>\n",
       "</tr>\n",
       "<tr>\n",
       "  <th>Prob(Omnibus):</th> <td> 0.000</td> <th>  Jarque-Bera (JB):  </th> <td> 108.637</td>\n",
       "</tr>\n",
       "<tr>\n",
       "  <th>Skew:</th>          <td> 1.072</td> <th>  Prob(JB):          </th> <td>2.57e-24</td>\n",
       "</tr>\n",
       "<tr>\n",
       "  <th>Kurtosis:</th>      <td> 4.323</td> <th>  Cond. No.          </th> <td>    28.2</td>\n",
       "</tr>\n",
       "</table><br/><br/>Warnings:<br/>[1] Standard Errors assume that the covariance matrix of the errors is correctly specified."
      ],
      "text/plain": [
       "<class 'statsmodels.iolib.summary.Summary'>\n",
       "\"\"\"\n",
       "                            OLS Regression Results                            \n",
       "==============================================================================\n",
       "Dep. Variable:                 salary   R-squared:                       0.385\n",
       "Model:                            OLS   Adj. R-squared:                  0.383\n",
       "Method:                 Least Squares   F-statistic:                     255.8\n",
       "Date:                Wed, 22 Apr 2020   Prob (F-statistic):           4.63e-45\n",
       "Time:                        18:06:07   Log-Likelihood:                -4367.0\n",
       "No. Observations:                 411   AIC:                             8738.\n",
       "Df Residuals:                     409   BIC:                             8746.\n",
       "Df Model:                           1                                         \n",
       "Covariance Type:            nonrobust                                         \n",
       "==============================================================================\n",
       "                 coef    std err          t      P>|t|      [0.025      0.975]\n",
       "------------------------------------------------------------------------------\n",
       "const        4.01e+04    858.948     46.682      0.000    3.84e+04    4.18e+04\n",
       "x1           851.8609     53.267     15.992      0.000     747.149     956.573\n",
       "==============================================================================\n",
       "Omnibus:                       70.412   Durbin-Watson:                   1.957\n",
       "Prob(Omnibus):                  0.000   Jarque-Bera (JB):              108.637\n",
       "Skew:                           1.072   Prob(JB):                     2.57e-24\n",
       "Kurtosis:                       4.323   Cond. No.                         28.2\n",
       "==============================================================================\n",
       "\n",
       "Warnings:\n",
       "[1] Standard Errors assume that the covariance matrix of the errors is correctly specified.\n",
       "\"\"\""
      ]
     },
     "execution_count": 22,
     "metadata": {},
     "output_type": "execute_result"
    }
   ],
   "source": [
    "#model summary\n",
    "model.summary()\n"
   ]
  },
  {
   "cell_type": "markdown",
   "metadata": {},
   "source": [
    "•There is clear positive correlation between years worked and salary earned per year.\n",
    "\n",
    "•The model does not significantly predict the dependant variable as the R^2 value is 0.369, which is really low. This value is statistically significant as the p-value is 0.00.\n",
    "\n",
    "•"
   ]
  },
  {
   "cell_type": "markdown",
   "metadata": {},
   "source": [
    "## 2.1 Finding the report the amount of variance explained (R^2) and significance value (p) "
   ]
  },
  {
   "cell_type": "code",
   "execution_count": 23,
   "metadata": {},
   "outputs": [
    {
     "data": {
      "text/plain": [
       "0.3847320065784118"
      ]
     },
     "execution_count": 23,
     "metadata": {},
     "output_type": "execute_result"
    }
   ],
   "source": [
    "#Report amount value\n",
    "model.rsquared"
   ]
  },
  {
   "cell_type": "code",
   "execution_count": 24,
   "metadata": {},
   "outputs": [
    {
     "data": {
      "text/plain": [
       "const    5.896347e-166\n",
       "x1        4.626090e-45\n",
       "dtype: float64"
      ]
     },
     "execution_count": 24,
     "metadata": {},
     "output_type": "execute_result"
    }
   ],
   "source": [
    "#Significance value\n",
    "model.pvalues"
   ]
  },
  {
   "cell_type": "markdown",
   "metadata": {},
   "source": [
    "## 2.2  Percentage of the variance"
   ]
  },
  {
   "cell_type": "markdown",
   "metadata": {},
   "source": [
    "The percentage is 36.9 of employees’ salaries is accounted for by the number of years they have worked"
   ]
  },
  {
   "cell_type": "markdown",
   "metadata": {},
   "source": [
    "# 3 The unstandardized coefficient (B or ‘coef’ in statsmodels)"
   ]
  },
  {
   "cell_type": "markdown",
   "metadata": {},
   "source": [
    "model.params"
   ]
  },
  {
   "cell_type": "markdown",
   "metadata": {},
   "source": [
    "•For every year worked, people get a salary increase of 813.24 a year."
   ]
  },
  {
   "cell_type": "markdown",
   "metadata": {},
   "source": [
    "# 4 The 95% confidence intervals [0.025, 0.975] "
   ]
  },
  {
   "cell_type": "markdown",
   "metadata": {},
   "source": [
    "I am confident that the true value of the population is between the intervals."
   ]
  },
  {
   "cell_type": "markdown",
   "metadata": {},
   "source": [
    "# 5.The expected salary for someone with 12 years’ work experience"
   ]
  },
  {
   "cell_type": "code",
   "execution_count": 38,
   "metadata": {},
   "outputs": [
    {
     "data": {
      "text/plain": [
       "array([50320.13578469])"
      ]
     },
     "execution_count": 38,
     "metadata": {},
     "output_type": "execute_result"
    }
   ],
   "source": [
    "model.predict([1,12])"
   ]
  },
  {
   "cell_type": "markdown",
   "metadata": {},
   "source": [
    "•A person with 12 years of experience will be earning $50320.136"
   ]
  },
  {
   "cell_type": "markdown",
   "metadata": {},
   "source": [
    "# 6.The expected salary for someone with years’ work experience"
   ]
  },
  {
   "cell_type": "code",
   "execution_count": 39,
   "metadata": {},
   "outputs": [
    {
     "data": {
      "text/plain": [
       "array([108246.67389745])"
      ]
     },
     "execution_count": 39,
     "metadata": {},
     "output_type": "execute_result"
    }
   ],
   "source": [
    "model.predict([1,80])"
   ]
  },
  {
   "cell_type": "markdown",
   "metadata": {},
   "source": [
    "• A person with 80 years of experience will be earning $108246.674"
   ]
  },
  {
   "cell_type": "code",
   "execution_count": 45,
   "metadata": {},
   "outputs": [
    {
     "data": {
      "text/plain": [
       "41"
      ]
     },
     "execution_count": 45,
     "metadata": {},
     "output_type": "execute_result"
    }
   ],
   "source": [
    "salaries[\"yearsworked\"].max()"
   ]
  },
  {
   "cell_type": "markdown",
   "metadata": {},
   "source": [
    "• From my original Dataset no one has worked more than 41 years, therefore the prediction for 80 years work experience is unrealistic."
   ]
  },
  {
   "cell_type": "markdown",
   "metadata": {},
   "source": [
    "# 7.Other employee characteristics might influence salary"
   ]
  },
  {
   "cell_type": "code",
   "execution_count": 49,
   "metadata": {},
   "outputs": [
    {
     "data": {
      "text/plain": [
       "salary         1.000000\n",
       "position       0.702122\n",
       "yearsworked    0.623589\n",
       "yearsrank      0.610706\n",
       "market         0.407214\n",
       "male           0.361564\n",
       "otherqual      0.167137\n",
       "exprior        0.119989\n",
       "degree         0.044554\n",
       "yearsabs      -0.069630\n",
       "Field         -0.499316\n",
       "Name: salary, dtype: float64"
      ]
     },
     "execution_count": 49,
     "metadata": {},
     "output_type": "execute_result"
    }
   ],
   "source": [
    "#To find other relationships I need the correlation of salary\n",
    "salaries.corr()[\"salary\"].sort_values(ascending = False)\n"
   ]
  },
  {
   "cell_type": "markdown",
   "metadata": {},
   "source": [
    "•Position and rank can influence salary,this will be a moderate positive relationship.\n",
    "\n",
    "•Field can also slightly affect salary in a  negatively way."
   ]
  },
  {
   "cell_type": "code",
   "execution_count": null,
   "metadata": {},
   "outputs": [],
   "source": []
  }
 ],
 "metadata": {
  "kernelspec": {
   "display_name": "Python 3",
   "language": "python",
   "name": "python3"
  },
  "language_info": {
   "codemirror_mode": {
    "name": "ipython",
    "version": 3
   },
   "file_extension": ".py",
   "mimetype": "text/x-python",
   "name": "python",
   "nbconvert_exporter": "python",
   "pygments_lexer": "ipython3",
   "version": "3.6.9"
  }
 },
 "nbformat": 4,
 "nbformat_minor": 4
}
